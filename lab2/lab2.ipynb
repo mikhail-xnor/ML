{
 "cells": [
  {
   "cell_type": "markdown",
   "id": "99a5260f",
   "metadata": {},
   "source": [
    "# Лаборатораня работа №2: Обработка пропусков в данных, кодирование категориальных признаков, масштабирование данных."
   ]
  },
  {
   "cell_type": "code",
   "execution_count": 1,
   "id": "0213aec0",
   "metadata": {},
   "outputs": [],
   "source": [
    "#Датасет содержит данные о кредитах на покупку электроники, которые были одобрены Tinkoff.ru. \n",
    "import numpy as np\n",
    "import pandas as pd\n",
    "import matplotlib.pyplot as plt\n",
    "%matplotlib inline"
   ]
  },
  {
   "cell_type": "code",
   "execution_count": 2,
   "id": "da4faa10",
   "metadata": {},
   "outputs": [],
   "source": [
    "# записываем CSV-файл в объект DataFrame\n",
    "data = pd.read_csv('credit_train.csv', encoding='cp1251', sep=';')"
   ]
  },
  {
   "cell_type": "code",
   "execution_count": 3,
   "id": "9840f162",
   "metadata": {},
   "outputs": [
    {
     "data": {
      "text/html": [
       "<div>\n",
       "<style scoped>\n",
       "    .dataframe tbody tr th:only-of-type {\n",
       "        vertical-align: middle;\n",
       "    }\n",
       "\n",
       "    .dataframe tbody tr th {\n",
       "        vertical-align: top;\n",
       "    }\n",
       "\n",
       "    .dataframe thead th {\n",
       "        text-align: right;\n",
       "    }\n",
       "</style>\n",
       "<table border=\"1\" class=\"dataframe\">\n",
       "  <thead>\n",
       "    <tr style=\"text-align: right;\">\n",
       "      <th></th>\n",
       "      <th>client_id</th>\n",
       "      <th>gender</th>\n",
       "      <th>age</th>\n",
       "      <th>marital_status</th>\n",
       "      <th>job_position</th>\n",
       "      <th>credit_sum</th>\n",
       "      <th>credit_month</th>\n",
       "      <th>tariff_id</th>\n",
       "      <th>score_shk</th>\n",
       "      <th>education</th>\n",
       "      <th>living_region</th>\n",
       "      <th>monthly_income</th>\n",
       "      <th>credit_count</th>\n",
       "      <th>overdue_credit_count</th>\n",
       "      <th>open_account_flg</th>\n",
       "    </tr>\n",
       "  </thead>\n",
       "  <tbody>\n",
       "    <tr>\n",
       "      <th>0</th>\n",
       "      <td>1</td>\n",
       "      <td>M</td>\n",
       "      <td>NaN</td>\n",
       "      <td>NaN</td>\n",
       "      <td>UMN</td>\n",
       "      <td>59998,00</td>\n",
       "      <td>10</td>\n",
       "      <td>1.6</td>\n",
       "      <td>NaN</td>\n",
       "      <td>GRD</td>\n",
       "      <td>КРАСНОДАРСКИЙ КРАЙ</td>\n",
       "      <td>30000.0</td>\n",
       "      <td>1.0</td>\n",
       "      <td>1.0</td>\n",
       "      <td>0</td>\n",
       "    </tr>\n",
       "    <tr>\n",
       "      <th>1</th>\n",
       "      <td>2</td>\n",
       "      <td>F</td>\n",
       "      <td>NaN</td>\n",
       "      <td>MAR</td>\n",
       "      <td>UMN</td>\n",
       "      <td>10889,00</td>\n",
       "      <td>6</td>\n",
       "      <td>1.1</td>\n",
       "      <td>NaN</td>\n",
       "      <td>NaN</td>\n",
       "      <td>МОСКВА</td>\n",
       "      <td>NaN</td>\n",
       "      <td>2.0</td>\n",
       "      <td>0.0</td>\n",
       "      <td>0</td>\n",
       "    </tr>\n",
       "    <tr>\n",
       "      <th>2</th>\n",
       "      <td>3</td>\n",
       "      <td>M</td>\n",
       "      <td>32.0</td>\n",
       "      <td>MAR</td>\n",
       "      <td>SPC</td>\n",
       "      <td>10728,00</td>\n",
       "      <td>12</td>\n",
       "      <td>1.1</td>\n",
       "      <td>NaN</td>\n",
       "      <td>NaN</td>\n",
       "      <td>ОБЛ САРАТОВСКАЯ</td>\n",
       "      <td>NaN</td>\n",
       "      <td>5.0</td>\n",
       "      <td>0.0</td>\n",
       "      <td>0</td>\n",
       "    </tr>\n",
       "    <tr>\n",
       "      <th>3</th>\n",
       "      <td>4</td>\n",
       "      <td>F</td>\n",
       "      <td>27.0</td>\n",
       "      <td>NaN</td>\n",
       "      <td>SPC</td>\n",
       "      <td>12009,09</td>\n",
       "      <td>12</td>\n",
       "      <td>1.1</td>\n",
       "      <td>NaN</td>\n",
       "      <td>NaN</td>\n",
       "      <td>ОБЛ ВОЛГОГРАДСКАЯ</td>\n",
       "      <td>NaN</td>\n",
       "      <td>2.0</td>\n",
       "      <td>0.0</td>\n",
       "      <td>0</td>\n",
       "    </tr>\n",
       "    <tr>\n",
       "      <th>4</th>\n",
       "      <td>5</td>\n",
       "      <td>M</td>\n",
       "      <td>45.0</td>\n",
       "      <td>NaN</td>\n",
       "      <td>SPC</td>\n",
       "      <td>NaN</td>\n",
       "      <td>10</td>\n",
       "      <td>1.1</td>\n",
       "      <td>0,421385</td>\n",
       "      <td>SCH</td>\n",
       "      <td>ЧЕЛЯБИНСКАЯ ОБЛАСТЬ</td>\n",
       "      <td>NaN</td>\n",
       "      <td>1.0</td>\n",
       "      <td>0.0</td>\n",
       "      <td>0</td>\n",
       "    </tr>\n",
       "  </tbody>\n",
       "</table>\n",
       "</div>"
      ],
      "text/plain": [
       "   client_id gender   age marital_status job_position credit_sum  \\\n",
       "0          1      M   NaN            NaN          UMN   59998,00   \n",
       "1          2      F   NaN            MAR          UMN   10889,00   \n",
       "2          3      M  32.0            MAR          SPC   10728,00   \n",
       "3          4      F  27.0            NaN          SPC   12009,09   \n",
       "4          5      M  45.0            NaN          SPC        NaN   \n",
       "\n",
       "   credit_month  tariff_id score_shk education        living_region  \\\n",
       "0            10        1.6       NaN       GRD   КРАСНОДАРСКИЙ КРАЙ   \n",
       "1             6        1.1       NaN       NaN               МОСКВА   \n",
       "2            12        1.1       NaN       NaN      ОБЛ САРАТОВСКАЯ   \n",
       "3            12        1.1       NaN       NaN    ОБЛ ВОЛГОГРАДСКАЯ   \n",
       "4            10        1.1  0,421385       SCH  ЧЕЛЯБИНСКАЯ ОБЛАСТЬ   \n",
       "\n",
       "   monthly_income  credit_count  overdue_credit_count  open_account_flg  \n",
       "0         30000.0           1.0                   1.0                 0  \n",
       "1             NaN           2.0                   0.0                 0  \n",
       "2             NaN           5.0                   0.0                 0  \n",
       "3             NaN           2.0                   0.0                 0  \n",
       "4             NaN           1.0                   0.0                 0  "
      ]
     },
     "execution_count": 3,
     "metadata": {},
     "output_type": "execute_result"
    }
   ],
   "source": [
    "# смотрим на первые пять строк\n",
    "data.head()"
   ]
  },
  {
   "cell_type": "markdown",
   "id": "034e0544",
   "metadata": {},
   "source": [
    "## 1) Обработка пропусков в данных"
   ]
  },
  {
   "cell_type": "code",
   "execution_count": 4,
   "id": "00fa826d",
   "metadata": {},
   "outputs": [
    {
     "name": "stdout",
     "output_type": "stream",
     "text": [
      "<class 'pandas.core.frame.DataFrame'>\n",
      "RangeIndex: 170746 entries, 0 to 170745\n",
      "Data columns (total 15 columns):\n",
      " #   Column                Non-Null Count   Dtype  \n",
      "---  ------                --------------   -----  \n",
      " 0   client_id             170746 non-null  int64  \n",
      " 1   gender                170746 non-null  object \n",
      " 2   age                   170743 non-null  float64\n",
      " 3   marital_status        170743 non-null  object \n",
      " 4   job_position          170746 non-null  object \n",
      " 5   credit_sum            170744 non-null  object \n",
      " 6   credit_month          170746 non-null  int64  \n",
      " 7   tariff_id             170746 non-null  float64\n",
      " 8   score_shk             170739 non-null  object \n",
      " 9   education             170741 non-null  object \n",
      " 10  living_region         170554 non-null  object \n",
      " 11  monthly_income        170741 non-null  float64\n",
      " 12  credit_count          161516 non-null  float64\n",
      " 13  overdue_credit_count  161516 non-null  float64\n",
      " 14  open_account_flg      170746 non-null  int64  \n",
      "dtypes: float64(5), int64(3), object(7)\n",
      "memory usage: 19.5+ MB\n"
     ]
    }
   ],
   "source": [
    "#проверяем типы данных и заполненность столбцов\n",
    "data.info()"
   ]
  },
  {
   "cell_type": "code",
   "execution_count": 5,
   "id": "7b679668",
   "metadata": {},
   "outputs": [],
   "source": [
    "#удаляем столбец с номером клиента (так как он незначимый) \n",
    "# и с регионом проживания (так как он нуждается в серьезной предобработке)\n",
    "data.drop(['client_id', 'living_region'], axis=1, inplace=True)"
   ]
  },
  {
   "cell_type": "code",
   "execution_count": 6,
   "id": "8f11bb1a",
   "metadata": {},
   "outputs": [
    {
     "data": {
      "text/plain": [
       "count     170743\n",
       "unique         5\n",
       "top          MAR\n",
       "freq       93954\n",
       "Name: marital_status, dtype: object"
      ]
     },
     "execution_count": 6,
     "metadata": {},
     "output_type": "execute_result"
    }
   ],
   "source": [
    "# анализируем столбец marital_status, смотрим, какое значение в нем является самым частым \n",
    "data['marital_status'].describe()"
   ]
  },
  {
   "cell_type": "code",
   "execution_count": 7,
   "id": "d8777207",
   "metadata": {},
   "outputs": [
    {
     "data": {
      "text/plain": [
       "count     170741\n",
       "unique         5\n",
       "top          SCH\n",
       "freq       87537\n",
       "Name: education, dtype: object"
      ]
     },
     "execution_count": 7,
     "metadata": {},
     "output_type": "execute_result"
    }
   ],
   "source": [
    "# анализируем столбец education, смотрим, какое в нем самое частое значение\n",
    "data['education'].describe()"
   ]
  },
  {
   "cell_type": "code",
   "execution_count": 8,
   "id": "f647fd51",
   "metadata": {},
   "outputs": [],
   "source": [
    "# дозаполняем нечисловые столбцы с пропусками самыми часто встречающимися значениями\n",
    "data['marital_status'].fillna('MAR', inplace=True)\n",
    "data['education'].fillna('SCH', inplace=True)"
   ]
  },
  {
   "cell_type": "code",
   "execution_count": 9,
   "id": "c56ac440",
   "metadata": {},
   "outputs": [],
   "source": [
    "# дозаполняем числовые столбцы с пропусками медианными значениями\n",
    "data['age'].fillna(data['age'].median(), inplace=True)\n",
    "data['credit_count'].fillna(data['credit_count'].median(), inplace=True)\n",
    "data['overdue_credit_count'].fillna(data['overdue_credit_count'].median(), inplace=True)"
   ]
  },
  {
   "cell_type": "code",
   "execution_count": 10,
   "id": "c2140de7",
   "metadata": {},
   "outputs": [],
   "source": [
    "#меняем в столбцах 'credit_sum', 'score_shk'  запятые на точки  и преобразуем их в числовой  формат\n",
    "for i in ['credit_sum', 'score_shk']:\n",
    "    data[i] = data[i].str.replace(',', '.').astype('float')"
   ]
  },
  {
   "cell_type": "code",
   "execution_count": 11,
   "id": "89ee255a",
   "metadata": {},
   "outputs": [],
   "source": [
    "# дозаполняем ставшие теперь числовыми столбцы 'credit_sum', 'score_shk'   медианными значениями\n",
    "data['score_shk'].fillna(data['score_shk'].median(), inplace=True)\n",
    "data['monthly_income'].fillna(data['monthly_income'].median(), inplace=True)\n",
    "data['credit_sum'].fillna(data['credit_sum'].median(), inplace=True)"
   ]
  },
  {
   "cell_type": "code",
   "execution_count": 12,
   "id": "412c3092",
   "metadata": {},
   "outputs": [
    {
     "name": "stdout",
     "output_type": "stream",
     "text": [
      "<class 'pandas.core.frame.DataFrame'>\n",
      "RangeIndex: 170746 entries, 0 to 170745\n",
      "Data columns (total 13 columns):\n",
      " #   Column                Non-Null Count   Dtype  \n",
      "---  ------                --------------   -----  \n",
      " 0   gender                170746 non-null  object \n",
      " 1   age                   170746 non-null  float64\n",
      " 2   marital_status        170746 non-null  object \n",
      " 3   job_position          170746 non-null  object \n",
      " 4   credit_sum            170746 non-null  float64\n",
      " 5   credit_month          170746 non-null  int64  \n",
      " 6   tariff_id             170746 non-null  float64\n",
      " 7   score_shk             170746 non-null  float64\n",
      " 8   education             170746 non-null  object \n",
      " 9   monthly_income        170746 non-null  float64\n",
      " 10  credit_count          170746 non-null  float64\n",
      " 11  overdue_credit_count  170746 non-null  float64\n",
      " 12  open_account_flg      170746 non-null  int64  \n",
      "dtypes: float64(7), int64(2), object(4)\n",
      "memory usage: 16.9+ MB\n"
     ]
    }
   ],
   "source": [
    "# смотрим, что получилось\n",
    "data.info()"
   ]
  },
  {
   "cell_type": "markdown",
   "id": "4d848a3b",
   "metadata": {},
   "source": [
    "## 2) Кодирование категориальных признаков"
   ]
  },
  {
   "cell_type": "code",
   "execution_count": 13,
   "id": "d4b5bff0",
   "metadata": {},
   "outputs": [],
   "source": [
    "category_cols = ['gender', 'job_position', 'education', 'marital_status']"
   ]
  },
  {
   "cell_type": "code",
   "execution_count": 14,
   "id": "fdbb49b7",
   "metadata": {},
   "outputs": [
    {
     "name": "stdout",
     "output_type": "stream",
     "text": [
      "Количество уникальных значений\n",
      "\n",
      "gender: 2\n",
      "job_position: 18\n",
      "education: 5\n",
      "marital_status: 5\n"
     ]
    }
   ],
   "source": [
    "print(\"Количество уникальных значений\\n\")\n",
    "for col in category_cols:\n",
    "    print(f'{col}: {data[col].unique().size}')"
   ]
  },
  {
   "cell_type": "code",
   "execution_count": 15,
   "id": "be66de63",
   "metadata": {},
   "outputs": [],
   "source": [
    "# кодируем нечисловые столбцы методом дамми-кодирования\n",
    "data = pd.concat([data, \n",
    "                      pd.get_dummies(data['gender'], prefix=\"gender\"),\n",
    "                      pd.get_dummies(data['job_position'], prefix=\"job_position\"),\n",
    "                      pd.get_dummies(data['education'], prefix=\"education\"),\n",
    "                      pd.get_dummies(data['marital_status'], prefix=\"marital_status\")],\n",
    "                     axis=1)"
   ]
  },
  {
   "cell_type": "code",
   "execution_count": 16,
   "id": "8c89d8c4",
   "metadata": {},
   "outputs": [],
   "source": [
    "#удаляем старые нечисловые столбцы, вместо них уже появились новые числовые\n",
    "data.drop(['gender','job_position','education','marital_status'], axis=1, inplace=True)"
   ]
  },
  {
   "cell_type": "code",
   "execution_count": 17,
   "id": "cfd5dfc0",
   "metadata": {},
   "outputs": [
    {
     "data": {
      "text/html": [
       "<div>\n",
       "<style scoped>\n",
       "    .dataframe tbody tr th:only-of-type {\n",
       "        vertical-align: middle;\n",
       "    }\n",
       "\n",
       "    .dataframe tbody tr th {\n",
       "        vertical-align: top;\n",
       "    }\n",
       "\n",
       "    .dataframe thead th {\n",
       "        text-align: right;\n",
       "    }\n",
       "</style>\n",
       "<table border=\"1\" class=\"dataframe\">\n",
       "  <thead>\n",
       "    <tr style=\"text-align: right;\">\n",
       "      <th></th>\n",
       "      <th>age</th>\n",
       "      <th>credit_sum</th>\n",
       "      <th>credit_month</th>\n",
       "      <th>tariff_id</th>\n",
       "      <th>score_shk</th>\n",
       "      <th>monthly_income</th>\n",
       "      <th>credit_count</th>\n",
       "      <th>overdue_credit_count</th>\n",
       "      <th>open_account_flg</th>\n",
       "      <th>gender_F</th>\n",
       "      <th>...</th>\n",
       "      <th>education_ACD</th>\n",
       "      <th>education_GRD</th>\n",
       "      <th>education_PGR</th>\n",
       "      <th>education_SCH</th>\n",
       "      <th>education_UGR</th>\n",
       "      <th>marital_status_CIV</th>\n",
       "      <th>marital_status_DIV</th>\n",
       "      <th>marital_status_MAR</th>\n",
       "      <th>marital_status_UNM</th>\n",
       "      <th>marital_status_WID</th>\n",
       "    </tr>\n",
       "  </thead>\n",
       "  <tbody>\n",
       "    <tr>\n",
       "      <th>0</th>\n",
       "      <td>34.0</td>\n",
       "      <td>59998.00</td>\n",
       "      <td>10</td>\n",
       "      <td>1.6</td>\n",
       "      <td>0.461599</td>\n",
       "      <td>30000.0</td>\n",
       "      <td>1.0</td>\n",
       "      <td>1.0</td>\n",
       "      <td>0</td>\n",
       "      <td>0</td>\n",
       "      <td>...</td>\n",
       "      <td>0</td>\n",
       "      <td>1</td>\n",
       "      <td>0</td>\n",
       "      <td>0</td>\n",
       "      <td>0</td>\n",
       "      <td>0</td>\n",
       "      <td>0</td>\n",
       "      <td>1</td>\n",
       "      <td>0</td>\n",
       "      <td>0</td>\n",
       "    </tr>\n",
       "    <tr>\n",
       "      <th>1</th>\n",
       "      <td>34.0</td>\n",
       "      <td>10889.00</td>\n",
       "      <td>6</td>\n",
       "      <td>1.1</td>\n",
       "      <td>0.461599</td>\n",
       "      <td>35000.0</td>\n",
       "      <td>2.0</td>\n",
       "      <td>0.0</td>\n",
       "      <td>0</td>\n",
       "      <td>1</td>\n",
       "      <td>...</td>\n",
       "      <td>0</td>\n",
       "      <td>0</td>\n",
       "      <td>0</td>\n",
       "      <td>1</td>\n",
       "      <td>0</td>\n",
       "      <td>0</td>\n",
       "      <td>0</td>\n",
       "      <td>1</td>\n",
       "      <td>0</td>\n",
       "      <td>0</td>\n",
       "    </tr>\n",
       "    <tr>\n",
       "      <th>2</th>\n",
       "      <td>32.0</td>\n",
       "      <td>10728.00</td>\n",
       "      <td>12</td>\n",
       "      <td>1.1</td>\n",
       "      <td>0.461599</td>\n",
       "      <td>35000.0</td>\n",
       "      <td>5.0</td>\n",
       "      <td>0.0</td>\n",
       "      <td>0</td>\n",
       "      <td>0</td>\n",
       "      <td>...</td>\n",
       "      <td>0</td>\n",
       "      <td>0</td>\n",
       "      <td>0</td>\n",
       "      <td>1</td>\n",
       "      <td>0</td>\n",
       "      <td>0</td>\n",
       "      <td>0</td>\n",
       "      <td>1</td>\n",
       "      <td>0</td>\n",
       "      <td>0</td>\n",
       "    </tr>\n",
       "    <tr>\n",
       "      <th>3</th>\n",
       "      <td>27.0</td>\n",
       "      <td>12009.09</td>\n",
       "      <td>12</td>\n",
       "      <td>1.1</td>\n",
       "      <td>0.461599</td>\n",
       "      <td>35000.0</td>\n",
       "      <td>2.0</td>\n",
       "      <td>0.0</td>\n",
       "      <td>0</td>\n",
       "      <td>1</td>\n",
       "      <td>...</td>\n",
       "      <td>0</td>\n",
       "      <td>0</td>\n",
       "      <td>0</td>\n",
       "      <td>1</td>\n",
       "      <td>0</td>\n",
       "      <td>0</td>\n",
       "      <td>0</td>\n",
       "      <td>1</td>\n",
       "      <td>0</td>\n",
       "      <td>0</td>\n",
       "    </tr>\n",
       "    <tr>\n",
       "      <th>4</th>\n",
       "      <td>45.0</td>\n",
       "      <td>21229.00</td>\n",
       "      <td>10</td>\n",
       "      <td>1.1</td>\n",
       "      <td>0.421385</td>\n",
       "      <td>35000.0</td>\n",
       "      <td>1.0</td>\n",
       "      <td>0.0</td>\n",
       "      <td>0</td>\n",
       "      <td>0</td>\n",
       "      <td>...</td>\n",
       "      <td>0</td>\n",
       "      <td>0</td>\n",
       "      <td>0</td>\n",
       "      <td>1</td>\n",
       "      <td>0</td>\n",
       "      <td>0</td>\n",
       "      <td>0</td>\n",
       "      <td>1</td>\n",
       "      <td>0</td>\n",
       "      <td>0</td>\n",
       "    </tr>\n",
       "  </tbody>\n",
       "</table>\n",
       "<p>5 rows × 39 columns</p>\n",
       "</div>"
      ],
      "text/plain": [
       "    age  credit_sum  credit_month  tariff_id  score_shk  monthly_income  \\\n",
       "0  34.0    59998.00            10        1.6   0.461599         30000.0   \n",
       "1  34.0    10889.00             6        1.1   0.461599         35000.0   \n",
       "2  32.0    10728.00            12        1.1   0.461599         35000.0   \n",
       "3  27.0    12009.09            12        1.1   0.461599         35000.0   \n",
       "4  45.0    21229.00            10        1.1   0.421385         35000.0   \n",
       "\n",
       "   credit_count  overdue_credit_count  open_account_flg  gender_F  ...  \\\n",
       "0           1.0                   1.0                 0         0  ...   \n",
       "1           2.0                   0.0                 0         1  ...   \n",
       "2           5.0                   0.0                 0         0  ...   \n",
       "3           2.0                   0.0                 0         1  ...   \n",
       "4           1.0                   0.0                 0         0  ...   \n",
       "\n",
       "   education_ACD  education_GRD  education_PGR  education_SCH  education_UGR  \\\n",
       "0              0              1              0              0              0   \n",
       "1              0              0              0              1              0   \n",
       "2              0              0              0              1              0   \n",
       "3              0              0              0              1              0   \n",
       "4              0              0              0              1              0   \n",
       "\n",
       "   marital_status_CIV  marital_status_DIV  marital_status_MAR  \\\n",
       "0                   0                   0                   1   \n",
       "1                   0                   0                   1   \n",
       "2                   0                   0                   1   \n",
       "3                   0                   0                   1   \n",
       "4                   0                   0                   1   \n",
       "\n",
       "   marital_status_UNM  marital_status_WID  \n",
       "0                   0                   0  \n",
       "1                   0                   0  \n",
       "2                   0                   0  \n",
       "3                   0                   0  \n",
       "4                   0                   0  \n",
       "\n",
       "[5 rows x 39 columns]"
      ]
     },
     "execution_count": 17,
     "metadata": {},
     "output_type": "execute_result"
    }
   ],
   "source": [
    "data.head()"
   ]
  },
  {
   "cell_type": "markdown",
   "id": "7e84c6ba",
   "metadata": {},
   "source": [
    "## 3) Масштабирование данных"
   ]
  },
  {
   "cell_type": "code",
   "execution_count": 18,
   "id": "20151f10",
   "metadata": {},
   "outputs": [],
   "source": [
    "from sklearn.preprocessing import MinMaxScaler, StandardScaler, Normalizer"
   ]
  },
  {
   "cell_type": "code",
   "execution_count": 19,
   "id": "4c93618d",
   "metadata": {},
   "outputs": [],
   "source": [
    "sc1 = MinMaxScaler()\n",
    "sc1_data = sc1.fit_transform(data[['credit_sum']])"
   ]
  },
  {
   "cell_type": "code",
   "execution_count": 28,
   "id": "27def493",
   "metadata": {},
   "outputs": [
    {
     "data": {
      "image/png": "[encoded data removed]",
      "text/plain": [
       "<Figure size 432x288 with 1 Axes>"
      ]
     },
     "metadata": {
      "needs_background": "light"
     },
     "output_type": "display_data"
    }
   ],
   "source": [
    "plt.hist(data['credit_sum'], 50)\n",
    "plt.show()"
   ]
  },
  {
   "cell_type": "code",
   "execution_count": 22,
   "id": "6eeb8bd2",
   "metadata": {},
   "outputs": [
    {
     "data": {
      "image/png": "[encoded data removed]",
      "text/plain": [
       "<Figure size 432x288 with 1 Axes>"
      ]
     },
     "metadata": {
      "needs_background": "light"
     },
     "output_type": "display_data"
    }
   ],
   "source": [
    "plt.hist(sc1_data, 50)\n",
    "plt.show()"
   ]
  },
  {
   "cell_type": "code",
   "execution_count": 23,
   "id": "8657a291",
   "metadata": {},
   "outputs": [],
   "source": [
    "scCredMon = MinMaxScaler()\n",
    "scCredMon = scCredMon.fit_transform(data[['credit_month']])"
   ]
  },
  {
   "cell_type": "code",
   "execution_count": 29,
   "id": "b29a4914",
   "metadata": {
    "scrolled": true
   },
   "outputs": [
    {
     "data": {
      "image/png": "[encoded data removed]",
      "text/plain": [
       "<Figure size 432x288 with 1 Axes>"
      ]
     },
     "metadata": {
      "needs_background": "light"
     },
     "output_type": "display_data"
    }
   ],
   "source": [
    "plt.hist(scCredMon, 20)\n",
    "plt.show()"
   ]
  },
  {
   "cell_type": "code",
   "execution_count": 30,
   "id": "a42f5af5",
   "metadata": {},
   "outputs": [],
   "source": [
    "scMonInc = MinMaxScaler().fit_transform(data['monthly_income'].values.reshape(-1, 1))"
   ]
  },
  {
   "cell_type": "code",
   "execution_count": 33,
   "id": "af3ad075",
   "metadata": {},
   "outputs": [
    {
     "data": {
      "image/png": "[encoded data removed]",
      "text/plain": [
       "<Figure size 432x288 with 1 Axes>"
      ]
     },
     "metadata": {
      "needs_background": "light"
     },
     "output_type": "display_data"
    }
   ],
   "source": [
    "plt.hist(scMonInc, 30)\n",
    "plt.show()"
   ]
  }
 ],
 "metadata": {
  "kernelspec": {
   "display_name": "Python 3 (ipykernel)",
   "language": "python",
   "name": "python3"
  },
  "language_info": {
   "codemirror_mode": {
    "name": "ipython",
    "version": 3
   },
   "file_extension": ".py",
   "mimetype": "text/x-python",
   "name": "python",
   "nbconvert_exporter": "python",
   "pygments_lexer": "ipython3",
   "version": "3.8.10"
  }
 },
 "nbformat": 4,
 "nbformat_minor": 5
}
