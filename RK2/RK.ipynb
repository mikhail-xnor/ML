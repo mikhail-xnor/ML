{
 "cells": [
  {
   "cell_type": "markdown",
   "id": "76d52623",
   "metadata": {},
   "source": [
    "## Вариант №3"
   ]
  },
  {
   "cell_type": "markdown",
   "id": "4e309e2a",
   "metadata": {},
   "source": [
    "## Задание\n",
    "Для заданного набора данных (по Вашему варианту) постройте модели классификации или регрессии (в зависимости от конкретной задачи, рассматриваемой в наборе данных). Для построения моделей используйте методы 1 и 2 (по варианту для Вашей группы). Оцените качество моделей на основе подходящих метрик качества (не менее двух метрик). Какие метрики качества Вы использовали и почему? Какие выводы Вы можете сделать о качестве построенных моделей? Для построения моделей необходимо выполнить требуемую предобработку данных: заполнение пропусков, кодирование категориальных признаков, и т.д."
   ]
  },
  {
   "cell_type": "markdown",
   "id": "9b44bb0b",
   "metadata": {},
   "source": [
    "Датасет https://scikit-learn.org/stable/modules/generated/sklearn.datasets.load_wine.html#sklearn.datasets.load_wine - набор данных о вине."
   ]
  },
  {
   "cell_type": "code",
   "execution_count": 12,
   "id": "226ba5d2",
   "metadata": {},
   "outputs": [],
   "source": [
    "import pandas as pd\n",
    "import numpy as np\n",
    "import matplotlib.pyplot as plt\n",
    "import seaborn as sns\n",
    "import matplotlib.pyplot as plt\n",
    "import seaborn as sns\n",
    "from sklearn.datasets import load_iris\n",
    "from sklearn.preprocessing import StandardScaler, MinMaxScaler\n",
    "from sklearn.model_selection import train_test_split, GridSearchCV\n",
    "from sklearn.svm import SVC\n",
    "from sklearn.ensemble import RandomForestClassifier\n",
    "from sklearn.metrics import accuracy_score, precision_score, recall_score, f1_score, confusion_matrix, classification_report"
   ]
  },
  {
   "cell_type": "code",
   "execution_count": 13,
   "id": "2b6c5744",
   "metadata": {},
   "outputs": [
    {
     "name": "stdout",
     "output_type": "stream",
     "text": [
      "<class 'pandas.core.frame.DataFrame'>\n",
      "RangeIndex: 178 entries, 0 to 177\n",
      "Data columns (total 14 columns):\n",
      " #   Column                        Non-Null Count  Dtype  \n",
      "---  ------                        --------------  -----  \n",
      " 0   alcohol                       178 non-null    float64\n",
      " 1   malic_acid                    178 non-null    float64\n",
      " 2   ash                           178 non-null    float64\n",
      " 3   alcalinity_of_ash             178 non-null    float64\n",
      " 4   magnesium                     178 non-null    float64\n",
      " 5   total_phenols                 178 non-null    float64\n",
      " 6   flavanoids                    178 non-null    float64\n",
      " 7   nonflavanoid_phenols          178 non-null    float64\n",
      " 8   proanthocyanins               178 non-null    float64\n",
      " 9   color_intensity               178 non-null    float64\n",
      " 10  hue                           178 non-null    float64\n",
      " 11  od280/od315_of_diluted_wines  178 non-null    float64\n",
      " 12  proline                       178 non-null    float64\n",
      " 13  target                        178 non-null    float64\n",
      "dtypes: float64(14)\n",
      "memory usage: 19.6 KB\n"
     ]
    },
    {
     "data": {
      "text/html": [
       "<div>\n",
       "<style scoped>\n",
       "    .dataframe tbody tr th:only-of-type {\n",
       "        vertical-align: middle;\n",
       "    }\n",
       "\n",
       "    .dataframe tbody tr th {\n",
       "        vertical-align: top;\n",
       "    }\n",
       "\n",
       "    .dataframe thead th {\n",
       "        text-align: right;\n",
       "    }\n",
       "</style>\n",
       "<table border=\"1\" class=\"dataframe\">\n",
       "  <thead>\n",
       "    <tr style=\"text-align: right;\">\n",
       "      <th></th>\n",
       "      <th>alcohol</th>\n",
       "      <th>malic_acid</th>\n",
       "      <th>ash</th>\n",
       "      <th>alcalinity_of_ash</th>\n",
       "      <th>magnesium</th>\n",
       "      <th>total_phenols</th>\n",
       "      <th>flavanoids</th>\n",
       "      <th>nonflavanoid_phenols</th>\n",
       "      <th>proanthocyanins</th>\n",
       "      <th>color_intensity</th>\n",
       "      <th>hue</th>\n",
       "      <th>od280/od315_of_diluted_wines</th>\n",
       "      <th>proline</th>\n",
       "      <th>target</th>\n",
       "    </tr>\n",
       "  </thead>\n",
       "  <tbody>\n",
       "    <tr>\n",
       "      <th>0</th>\n",
       "      <td>14.23</td>\n",
       "      <td>1.71</td>\n",
       "      <td>2.43</td>\n",
       "      <td>15.6</td>\n",
       "      <td>127.0</td>\n",
       "      <td>2.80</td>\n",
       "      <td>3.06</td>\n",
       "      <td>0.28</td>\n",
       "      <td>2.29</td>\n",
       "      <td>5.64</td>\n",
       "      <td>1.04</td>\n",
       "      <td>3.92</td>\n",
       "      <td>1065.0</td>\n",
       "      <td>0.0</td>\n",
       "    </tr>\n",
       "    <tr>\n",
       "      <th>1</th>\n",
       "      <td>13.20</td>\n",
       "      <td>1.78</td>\n",
       "      <td>2.14</td>\n",
       "      <td>11.2</td>\n",
       "      <td>100.0</td>\n",
       "      <td>2.65</td>\n",
       "      <td>2.76</td>\n",
       "      <td>0.26</td>\n",
       "      <td>1.28</td>\n",
       "      <td>4.38</td>\n",
       "      <td>1.05</td>\n",
       "      <td>3.40</td>\n",
       "      <td>1050.0</td>\n",
       "      <td>0.0</td>\n",
       "    </tr>\n",
       "    <tr>\n",
       "      <th>2</th>\n",
       "      <td>13.16</td>\n",
       "      <td>2.36</td>\n",
       "      <td>2.67</td>\n",
       "      <td>18.6</td>\n",
       "      <td>101.0</td>\n",
       "      <td>2.80</td>\n",
       "      <td>3.24</td>\n",
       "      <td>0.30</td>\n",
       "      <td>2.81</td>\n",
       "      <td>5.68</td>\n",
       "      <td>1.03</td>\n",
       "      <td>3.17</td>\n",
       "      <td>1185.0</td>\n",
       "      <td>0.0</td>\n",
       "    </tr>\n",
       "    <tr>\n",
       "      <th>3</th>\n",
       "      <td>14.37</td>\n",
       "      <td>1.95</td>\n",
       "      <td>2.50</td>\n",
       "      <td>16.8</td>\n",
       "      <td>113.0</td>\n",
       "      <td>3.85</td>\n",
       "      <td>3.49</td>\n",
       "      <td>0.24</td>\n",
       "      <td>2.18</td>\n",
       "      <td>7.80</td>\n",
       "      <td>0.86</td>\n",
       "      <td>3.45</td>\n",
       "      <td>1480.0</td>\n",
       "      <td>0.0</td>\n",
       "    </tr>\n",
       "    <tr>\n",
       "      <th>4</th>\n",
       "      <td>13.24</td>\n",
       "      <td>2.59</td>\n",
       "      <td>2.87</td>\n",
       "      <td>21.0</td>\n",
       "      <td>118.0</td>\n",
       "      <td>2.80</td>\n",
       "      <td>2.69</td>\n",
       "      <td>0.39</td>\n",
       "      <td>1.82</td>\n",
       "      <td>4.32</td>\n",
       "      <td>1.04</td>\n",
       "      <td>2.93</td>\n",
       "      <td>735.0</td>\n",
       "      <td>0.0</td>\n",
       "    </tr>\n",
       "  </tbody>\n",
       "</table>\n",
       "</div>"
      ],
      "text/plain": [
       "   alcohol  malic_acid   ash  alcalinity_of_ash  magnesium  total_phenols  \\\n",
       "0    14.23        1.71  2.43               15.6      127.0           2.80   \n",
       "1    13.20        1.78  2.14               11.2      100.0           2.65   \n",
       "2    13.16        2.36  2.67               18.6      101.0           2.80   \n",
       "3    14.37        1.95  2.50               16.8      113.0           3.85   \n",
       "4    13.24        2.59  2.87               21.0      118.0           2.80   \n",
       "\n",
       "   flavanoids  nonflavanoid_phenols  proanthocyanins  color_intensity   hue  \\\n",
       "0        3.06                  0.28             2.29             5.64  1.04   \n",
       "1        2.76                  0.26             1.28             4.38  1.05   \n",
       "2        3.24                  0.30             2.81             5.68  1.03   \n",
       "3        3.49                  0.24             2.18             7.80  0.86   \n",
       "4        2.69                  0.39             1.82             4.32  1.04   \n",
       "\n",
       "   od280/od315_of_diluted_wines  proline  target  \n",
       "0                          3.92   1065.0     0.0  \n",
       "1                          3.40   1050.0     0.0  \n",
       "2                          3.17   1185.0     0.0  \n",
       "3                          3.45   1480.0     0.0  \n",
       "4                          2.93    735.0     0.0  "
      ]
     },
     "execution_count": 13,
     "metadata": {},
     "output_type": "execute_result"
    }
   ],
   "source": [
    "# Импортируем датасет из sklearn.\n",
    "from sklearn.datasets import load_wine\n",
    "wine=load_wine()\n",
    "\n",
    "# Преобразуем в датасет для pandas.\n",
    "data=pd.DataFrame(data=np.c_[wine['data'],wine['target']],columns=wine['feature_names']+['target'])\n",
    "\n",
    "# Проверяем данные после преобразования.\n",
    "data.info()\n",
    "data.head()"
   ]
  },
  {
   "cell_type": "code",
   "execution_count": 16,
   "id": "e96a730b",
   "metadata": {
    "scrolled": false
   },
   "outputs": [
    {
     "data": {
      "text/plain": [
       "alcohol                         0\n",
       "malic_acid                      0\n",
       "ash                             0\n",
       "alcalinity_of_ash               0\n",
       "magnesium                       0\n",
       "total_phenols                   0\n",
       "flavanoids                      0\n",
       "nonflavanoid_phenols            0\n",
       "proanthocyanins                 0\n",
       "color_intensity                 0\n",
       "hue                             0\n",
       "od280/od315_of_diluted_wines    0\n",
       "proline                         0\n",
       "target                          0\n",
       "dtype: int64"
      ]
     },
     "execution_count": 16,
     "metadata": {},
     "output_type": "execute_result"
    }
   ],
   "source": [
    "# Ищем пропуски.\n",
    "(data.isnull() | data.empty | data.isna()).sum()"
   ]
  },
  {
   "cell_type": "markdown",
   "id": "17eae177",
   "metadata": {},
   "source": [
    "## Выбор метрик и подготовка данных"
   ]
  },
  {
   "cell_type": "markdown",
   "id": "50f599f0",
   "metadata": {},
   "source": [
    "Так как выполняется задача небинарной классификации и в тестовой выборке возможен дисбаланс классов, были выбраны следующие метрики:\n",
    "\n",
    "- precision;\n",
    "- recall;\n",
    "- f1-score.\n",
    "\n",
    "Всем метрикам был задан уровень детализации average='weighted'."
   ]
  },
  {
   "cell_type": "code",
   "execution_count": 17,
   "id": "dd2cfa17",
   "metadata": {},
   "outputs": [],
   "source": [
    "def print_metrics(y_test, y_pred):\n",
    "    rep = classification_report(y_test, y_pred, output_dict=True)\n",
    "    print(\"weighted precision:\", rep['weighted avg']['precision'])\n",
    "    print(\"weighted recall:\", rep['weighted avg']['recall'])\n",
    "    print(\"weighted f1-score:\", rep['weighted avg']['f1-score'])\n",
    "    plt.figure(figsize=(4, 3))\n",
    "    plt.title('Матрица ошибок')\n",
    "    sns.heatmap(confusion_matrix(y_test, y_pred), annot=True, cmap=\"Blues\");"
   ]
  },
  {
   "cell_type": "code",
   "execution_count": 135,
   "id": "ea7a5be4",
   "metadata": {},
   "outputs": [],
   "source": [
    "x_train, x_test, y_train, y_test = train_test_split(data.drop(['target'], axis=1), data['target'], test_size=0.5, random_state=27)"
   ]
  },
  {
   "cell_type": "markdown",
   "id": "618580d0",
   "metadata": {},
   "source": [
    "## Масштабирование данных"
   ]
  },
  {
   "cell_type": "code",
   "execution_count": 136,
   "id": "8c95f6b0",
   "metadata": {},
   "outputs": [
    {
     "data": {
      "text/html": [
       "<div>\n",
       "<style scoped>\n",
       "    .dataframe tbody tr th:only-of-type {\n",
       "        vertical-align: middle;\n",
       "    }\n",
       "\n",
       "    .dataframe tbody tr th {\n",
       "        vertical-align: top;\n",
       "    }\n",
       "\n",
       "    .dataframe thead th {\n",
       "        text-align: right;\n",
       "    }\n",
       "</style>\n",
       "<table border=\"1\" class=\"dataframe\">\n",
       "  <thead>\n",
       "    <tr style=\"text-align: right;\">\n",
       "      <th></th>\n",
       "      <th>alcohol</th>\n",
       "      <th>malic_acid</th>\n",
       "      <th>ash</th>\n",
       "      <th>alcalinity_of_ash</th>\n",
       "      <th>magnesium</th>\n",
       "      <th>total_phenols</th>\n",
       "      <th>flavanoids</th>\n",
       "      <th>nonflavanoid_phenols</th>\n",
       "      <th>proanthocyanins</th>\n",
       "      <th>color_intensity</th>\n",
       "      <th>hue</th>\n",
       "      <th>od280/od315_of_diluted_wines</th>\n",
       "      <th>proline</th>\n",
       "    </tr>\n",
       "  </thead>\n",
       "  <tbody>\n",
       "    <tr>\n",
       "      <th>count</th>\n",
       "      <td>8.900000e+01</td>\n",
       "      <td>8.900000e+01</td>\n",
       "      <td>8.900000e+01</td>\n",
       "      <td>8.900000e+01</td>\n",
       "      <td>8.900000e+01</td>\n",
       "      <td>8.900000e+01</td>\n",
       "      <td>8.900000e+01</td>\n",
       "      <td>8.900000e+01</td>\n",
       "      <td>8.900000e+01</td>\n",
       "      <td>8.900000e+01</td>\n",
       "      <td>8.900000e+01</td>\n",
       "      <td>8.900000e+01</td>\n",
       "      <td>8.900000e+01</td>\n",
       "    </tr>\n",
       "    <tr>\n",
       "      <th>mean</th>\n",
       "      <td>-1.616684e-15</td>\n",
       "      <td>-4.004288e-16</td>\n",
       "      <td>1.182575e-15</td>\n",
       "      <td>6.711236e-16</td>\n",
       "      <td>1.496930e-17</td>\n",
       "      <td>1.796316e-15</td>\n",
       "      <td>-6.162362e-16</td>\n",
       "      <td>-3.517785e-16</td>\n",
       "      <td>8.093557e-16</td>\n",
       "      <td>-2.033525e-16</td>\n",
       "      <td>-9.689503e-16</td>\n",
       "      <td>1.091511e-15</td>\n",
       "      <td>-1.060325e-16</td>\n",
       "    </tr>\n",
       "    <tr>\n",
       "      <th>std</th>\n",
       "      <td>1.005666e+00</td>\n",
       "      <td>1.005666e+00</td>\n",
       "      <td>1.005666e+00</td>\n",
       "      <td>1.005666e+00</td>\n",
       "      <td>1.005666e+00</td>\n",
       "      <td>1.005666e+00</td>\n",
       "      <td>1.005666e+00</td>\n",
       "      <td>1.005666e+00</td>\n",
       "      <td>1.005666e+00</td>\n",
       "      <td>1.005666e+00</td>\n",
       "      <td>1.005666e+00</td>\n",
       "      <td>1.005666e+00</td>\n",
       "      <td>1.005666e+00</td>\n",
       "    </tr>\n",
       "    <tr>\n",
       "      <th>min</th>\n",
       "      <td>-2.121506e+00</td>\n",
       "      <td>-1.565042e+00</td>\n",
       "      <td>-2.311900e+00</td>\n",
       "      <td>-2.434169e+00</td>\n",
       "      <td>-1.549464e+00</td>\n",
       "      <td>-1.705957e+00</td>\n",
       "      <td>-1.772852e+00</td>\n",
       "      <td>-1.750131e+00</td>\n",
       "      <td>-1.912147e+00</td>\n",
       "      <td>-1.340559e+00</td>\n",
       "      <td>-2.284093e+00</td>\n",
       "      <td>-2.045442e+00</td>\n",
       "      <td>-1.499092e+00</td>\n",
       "    </tr>\n",
       "    <tr>\n",
       "      <th>25%</th>\n",
       "      <td>-7.679090e-01</td>\n",
       "      <td>-6.076227e-01</td>\n",
       "      <td>-5.943782e-01</td>\n",
       "      <td>-6.139109e-01</td>\n",
       "      <td>-7.921375e-01</td>\n",
       "      <td>-9.584166e-01</td>\n",
       "      <td>-8.252971e-01</td>\n",
       "      <td>-7.781395e-01</td>\n",
       "      <td>-6.138906e-01</td>\n",
       "      <td>-7.600287e-01</td>\n",
       "      <td>-6.813261e-01</td>\n",
       "      <td>-8.128654e-01</td>\n",
       "      <td>-8.001863e-01</td>\n",
       "    </tr>\n",
       "    <tr>\n",
       "      <th>50%</th>\n",
       "      <td>-2.726134e-02</td>\n",
       "      <td>-4.182430e-01</td>\n",
       "      <td>2.392951e-02</td>\n",
       "      <td>-3.749595e-02</td>\n",
       "      <td>-1.725065e-01</td>\n",
       "      <td>1.549407e-01</td>\n",
       "      <td>1.329041e-01</td>\n",
       "      <td>-2.921436e-01</td>\n",
       "      <td>-1.133580e-01</td>\n",
       "      <td>-1.665975e-01</td>\n",
       "      <td>2.091001e-01</td>\n",
       "      <td>2.747025e-01</td>\n",
       "      <td>-3.072084e-01</td>\n",
       "    </tr>\n",
       "    <tr>\n",
       "      <th>75%</th>\n",
       "      <td>7.772352e-01</td>\n",
       "      <td>5.602187e-01</td>\n",
       "      <td>7.796389e-01</td>\n",
       "      <td>5.389190e-01</td>\n",
       "      <td>4.471245e-01</td>\n",
       "      <td>7.911450e-01</td>\n",
       "      <td>8.568783e-01</td>\n",
       "      <td>6.798482e-01</td>\n",
       "      <td>5.279495e-01</td>\n",
       "      <td>4.010323e-01</td>\n",
       "      <td>6.988345e-01</td>\n",
       "      <td>7.822342e-01</td>\n",
       "      <td>8.004317e-01</td>\n",
       "    </tr>\n",
       "    <tr>\n",
       "      <th>max</th>\n",
       "      <td>2.143602e+00</td>\n",
       "      <td>2.622353e+00</td>\n",
       "      <td>2.909365e+00</td>\n",
       "      <td>3.269306e+00</td>\n",
       "      <td>4.233758e+00</td>\n",
       "      <td>2.429371e+00</td>\n",
       "      <td>1.719259e+00</td>\n",
       "      <td>2.218835e+00</td>\n",
       "      <td>3.046254e+00</td>\n",
       "      <td>3.411190e+00</td>\n",
       "      <td>2.034474e+00</td>\n",
       "      <td>1.652289e+00</td>\n",
       "      <td>2.460332e+00</td>\n",
       "    </tr>\n",
       "  </tbody>\n",
       "</table>\n",
       "</div>"
      ],
      "text/plain": [
       "            alcohol    malic_acid           ash  alcalinity_of_ash  \\\n",
       "count  8.900000e+01  8.900000e+01  8.900000e+01       8.900000e+01   \n",
       "mean  -1.616684e-15 -4.004288e-16  1.182575e-15       6.711236e-16   \n",
       "std    1.005666e+00  1.005666e+00  1.005666e+00       1.005666e+00   \n",
       "min   -2.121506e+00 -1.565042e+00 -2.311900e+00      -2.434169e+00   \n",
       "25%   -7.679090e-01 -6.076227e-01 -5.943782e-01      -6.139109e-01   \n",
       "50%   -2.726134e-02 -4.182430e-01  2.392951e-02      -3.749595e-02   \n",
       "75%    7.772352e-01  5.602187e-01  7.796389e-01       5.389190e-01   \n",
       "max    2.143602e+00  2.622353e+00  2.909365e+00       3.269306e+00   \n",
       "\n",
       "          magnesium  total_phenols    flavanoids  nonflavanoid_phenols  \\\n",
       "count  8.900000e+01   8.900000e+01  8.900000e+01          8.900000e+01   \n",
       "mean   1.496930e-17   1.796316e-15 -6.162362e-16         -3.517785e-16   \n",
       "std    1.005666e+00   1.005666e+00  1.005666e+00          1.005666e+00   \n",
       "min   -1.549464e+00  -1.705957e+00 -1.772852e+00         -1.750131e+00   \n",
       "25%   -7.921375e-01  -9.584166e-01 -8.252971e-01         -7.781395e-01   \n",
       "50%   -1.725065e-01   1.549407e-01  1.329041e-01         -2.921436e-01   \n",
       "75%    4.471245e-01   7.911450e-01  8.568783e-01          6.798482e-01   \n",
       "max    4.233758e+00   2.429371e+00  1.719259e+00          2.218835e+00   \n",
       "\n",
       "       proanthocyanins  color_intensity           hue  \\\n",
       "count     8.900000e+01     8.900000e+01  8.900000e+01   \n",
       "mean      8.093557e-16    -2.033525e-16 -9.689503e-16   \n",
       "std       1.005666e+00     1.005666e+00  1.005666e+00   \n",
       "min      -1.912147e+00    -1.340559e+00 -2.284093e+00   \n",
       "25%      -6.138906e-01    -7.600287e-01 -6.813261e-01   \n",
       "50%      -1.133580e-01    -1.665975e-01  2.091001e-01   \n",
       "75%       5.279495e-01     4.010323e-01  6.988345e-01   \n",
       "max       3.046254e+00     3.411190e+00  2.034474e+00   \n",
       "\n",
       "       od280/od315_of_diluted_wines       proline  \n",
       "count                  8.900000e+01  8.900000e+01  \n",
       "mean                   1.091511e-15 -1.060325e-16  \n",
       "std                    1.005666e+00  1.005666e+00  \n",
       "min                   -2.045442e+00 -1.499092e+00  \n",
       "25%                   -8.128654e-01 -8.001863e-01  \n",
       "50%                    2.747025e-01 -3.072084e-01  \n",
       "75%                    7.822342e-01  8.004317e-01  \n",
       "max                    1.652289e+00  2.460332e+00  "
      ]
     },
     "execution_count": 136,
     "metadata": {},
     "output_type": "execute_result"
    }
   ],
   "source": [
    "scaler = StandardScaler().fit(x_train)\n",
    "x_train_scaled = pd.DataFrame(scaler.transform(x_train), columns=x_train.columns)\n",
    "x_test_scaled = pd.DataFrame(scaler.transform(x_test), columns=x_train.columns)\n",
    "x_train_scaled.describe()"
   ]
  },
  {
   "cell_type": "markdown",
   "id": "e7c0e79a",
   "metadata": {},
   "source": [
    "## SVC"
   ]
  },
  {
   "cell_type": "markdown",
   "id": "1c7810e9",
   "metadata": {},
   "source": [
    "## Базовая модель"
   ]
  },
  {
   "cell_type": "markdown",
   "id": "8b9d7634",
   "metadata": {},
   "source": [
    "Без масштабирования:"
   ]
  },
  {
   "cell_type": "code",
   "execution_count": 103,
   "id": "9dea6e32",
   "metadata": {},
   "outputs": [
    {
     "name": "stdout",
     "output_type": "stream",
     "text": [
      "weighted precision: 0.7540359033966163\n",
      "weighted recall: 0.7415730337078652\n",
      "weighted f1-score: 0.7443483482809325\n"
     ]
    },
    {
     "data": {
      "image/png": "[encoded data removed]",
      "text/plain": [
       "<Figure size 288x216 with 2 Axes>"
      ]
     },
     "metadata": {
      "needs_background": "light"
     },
     "output_type": "display_data"
    }
   ],
   "source": [
    "svm_model = SVC()\n",
    "svm_model.fit(x_train, y_train)\n",
    "y_pred_svm = svm_model.predict(x_test)\n",
    "print_metrics(y_test, y_pred_svm)"
   ]
  },
  {
   "cell_type": "markdown",
   "id": "32be7254",
   "metadata": {},
   "source": [
    "С масштабированием:"
   ]
  },
  {
   "cell_type": "code",
   "execution_count": 104,
   "id": "5fc6ca02",
   "metadata": {},
   "outputs": [
    {
     "name": "stdout",
     "output_type": "stream",
     "text": [
      "weighted precision: 0.967088178104895\n",
      "weighted recall: 0.9662921348314607\n",
      "weighted f1-score: 0.96650014692918\n"
     ]
    },
    {
     "data": {
      "image/png": "[encoded data removed]",
      "text/plain": [
       "<Figure size 288x216 with 2 Axes>"
      ]
     },
     "metadata": {
      "needs_background": "light"
     },
     "output_type": "display_data"
    }
   ],
   "source": [
    "svm_model = SVC()\n",
    "svm_model.fit(x_train_scaled, y_train)\n",
    "y_pred_svm = svm_model.predict(x_test_scaled)\n",
    "print_metrics(y_test, y_pred_svm)"
   ]
  },
  {
   "cell_type": "markdown",
   "id": "e054a062",
   "metadata": {},
   "source": [
    "## Подбор гиперпараметров"
   ]
  },
  {
   "cell_type": "code",
   "execution_count": 105,
   "id": "caac7288",
   "metadata": {},
   "outputs": [
    {
     "name": "stdout",
     "output_type": "stream",
     "text": [
      "{'C': 0.13}\n"
     ]
    }
   ],
   "source": [
    "params = {'C': np.concatenate([np.arange(0.1, 2, 0.03), np.arange(2, 20, 1)])}\n",
    "grid_cv = GridSearchCV(estimator=svm_model, param_grid=params, cv=10, n_jobs=-1, scoring='f1_macro')\n",
    "grid_cv.fit(x_train_scaled, y_train)\n",
    "print(grid_cv.best_params_)"
   ]
  },
  {
   "cell_type": "markdown",
   "id": "1245f429",
   "metadata": {},
   "source": [
    "## Лучшая модель"
   ]
  },
  {
   "cell_type": "code",
   "execution_count": 137,
   "id": "59fe7e1b",
   "metadata": {},
   "outputs": [
    {
     "name": "stdout",
     "output_type": "stream",
     "text": [
      "weighted precision: 1.0\n",
      "weighted recall: 1.0\n",
      "weighted f1-score: 1.0\n"
     ]
    },
    {
     "data": {
      "image/png": "[encoded data removed]",
      "text/plain": [
       "<Figure size 288x216 with 2 Axes>"
      ]
     },
     "metadata": {
      "needs_background": "light"
     },
     "output_type": "display_data"
    }
   ],
   "source": [
    "best_svm_model = grid_cv.best_estimator_\n",
    "best_svm_model.fit(x_train_scaled, y_train)\n",
    "y_pred_svm = best_svm_model.predict(x_test_scaled)\n",
    "print_metrics(y_test, y_pred_svm)"
   ]
  },
  {
   "cell_type": "markdown",
   "id": "46cd03ae",
   "metadata": {},
   "source": [
    "## RandomForestClassifier"
   ]
  },
  {
   "cell_type": "markdown",
   "id": "2a6d492b",
   "metadata": {},
   "source": [
    "## Базовая модель"
   ]
  },
  {
   "cell_type": "code",
   "execution_count": 130,
   "id": "6c01d7ca",
   "metadata": {},
   "outputs": [
    {
     "name": "stdout",
     "output_type": "stream",
     "text": [
      "weighted precision: 0.9445247636258872\n",
      "weighted recall: 0.9438202247191011\n",
      "weighted f1-score: 0.9436376329325608\n"
     ]
    },
    {
     "data": {
      "image/png": "[encoded data removed]",
      "text/plain": [
       "<Figure size 288x216 with 2 Axes>"
      ]
     },
     "metadata": {
      "needs_background": "light"
     },
     "output_type": "display_data"
    }
   ],
   "source": [
    "rfc_model = RandomForestClassifier()\n",
    "rfc_model.fit(x_train, y_train)\n",
    "y_pred_rfc = rfc_model.predict(x_test)\n",
    "print_metrics(y_test, y_pred_rfc)"
   ]
  },
  {
   "cell_type": "markdown",
   "id": "ed8cd0bc",
   "metadata": {},
   "source": [
    "## Подбор гиперпараметров"
   ]
  },
  {
   "cell_type": "code",
   "execution_count": 131,
   "id": "5971ad58",
   "metadata": {},
   "outputs": [
    {
     "name": "stdout",
     "output_type": "stream",
     "text": [
      "{'criterion': 'gini', 'max_features': 2, 'min_samples_leaf': 1, 'n_estimators': 100}\n"
     ]
    }
   ],
   "source": [
    "params = {'n_estimators': [5, 10, 50, 100], 'max_features': [2, 3, 4], 'criterion': ['gini', 'entropy'], 'min_samples_leaf': [1, 2, 3, 4, 5]}\n",
    "grid_cv = GridSearchCV(estimator=rfc_model, param_grid=params, cv=10, n_jobs=-1, scoring='f1_weighted')\n",
    "grid_cv.fit(x_train, y_train)\n",
    "print(grid_cv.best_params_)"
   ]
  },
  {
   "cell_type": "markdown",
   "id": "917c069e",
   "metadata": {},
   "source": [
    "## Лучшая модель"
   ]
  },
  {
   "cell_type": "code",
   "execution_count": 132,
   "id": "693689fc",
   "metadata": {},
   "outputs": [
    {
     "name": "stdout",
     "output_type": "stream",
     "text": [
      "weighted precision: 0.9783007254917369\n",
      "weighted recall: 0.9775280898876404\n",
      "weighted f1-score: 0.9773622265701662\n"
     ]
    },
    {
     "data": {
      "image/png": "[encoded data removed]",
      "text/plain": [
       "<Figure size 288x216 with 2 Axes>"
      ]
     },
     "metadata": {
      "needs_background": "light"
     },
     "output_type": "display_data"
    }
   ],
   "source": [
    "best_rfc_model = grid_cv.best_estimator_\n",
    "best_rfc_model.fit(x_train, y_train)\n",
    "y_pred_rfc = best_rfc_model.predict(x_test)\n",
    "print_metrics(y_test, y_pred_rfc)"
   ]
  },
  {
   "cell_type": "markdown",
   "id": "6edbac83",
   "metadata": {},
   "source": [
    "## Сравнение результатов"
   ]
  },
  {
   "cell_type": "code",
   "execution_count": 138,
   "id": "91e8056e",
   "metadata": {},
   "outputs": [
    {
     "name": "stdout",
     "output_type": "stream",
     "text": [
      "SVC result\n",
      "\n",
      "weighted precision: 1.0\n",
      "weighted recall: 1.0\n",
      "weighted f1-score: 1.0\n"
     ]
    },
    {
     "data": {
      "image/png": "[encoded data removed]",
      "text/plain": [
       "<Figure size 288x216 with 2 Axes>"
      ]
     },
     "metadata": {
      "needs_background": "light"
     },
     "output_type": "display_data"
    }
   ],
   "source": [
    "print(\"SVC result\\n\")\n",
    "print_metrics(y_test, y_pred_svm)"
   ]
  },
  {
   "cell_type": "code",
   "execution_count": 134,
   "id": "c568a03f",
   "metadata": {},
   "outputs": [
    {
     "name": "stdout",
     "output_type": "stream",
     "text": [
      "RandomForestClassifier result\n",
      "\n",
      "weighted precision: 0.9783007254917369\n",
      "weighted recall: 0.9775280898876404\n",
      "weighted f1-score: 0.9773622265701662\n"
     ]
    },
    {
     "data": {
      "image/png": "[encoded data removed]",
      "text/plain": [
       "<Figure size 288x216 with 2 Axes>"
      ]
     },
     "metadata": {
      "needs_background": "light"
     },
     "output_type": "display_data"
    }
   ],
   "source": [
    "print(\"RandomForestClassifier result\\n\")\n",
    "print_metrics(y_test, y_pred_rfc)"
   ]
  },
  {
   "cell_type": "markdown",
   "id": "a8962297",
   "metadata": {},
   "source": [
    "## Выводы:\n",
    "\n",
    "Модели с подобранными гиперпараметрами оказались лучше базовых моделей. Обе конечные модели показали очень высокую точность прогноза, что объясняется спецификой используемого \"игрушечного\" датасета. Из матриц ошибок видим, что модель RandomForestClassifier совершила 2 неверных прогноза из 89. Метрики показывают, что качество рассматриваемой модели RandomForestClassifier хуже SVC, что обосновывается размером тестовой выборки данных."
   ]
  }
 ],
 "metadata": {
  "kernelspec": {
   "display_name": "Python 3 (ipykernel)",
   "language": "python",
   "name": "python3"
  },
  "language_info": {
   "codemirror_mode": {
    "name": "ipython",
    "version": 3
   },
   "file_extension": ".py",
   "mimetype": "text/x-python",
   "name": "python",
   "nbconvert_exporter": "python",
   "pygments_lexer": "ipython3",
   "version": "3.8.10"
  }
 },
 "nbformat": 4,
 "nbformat_minor": 5
}
